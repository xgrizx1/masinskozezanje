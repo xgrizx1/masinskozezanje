{
 "cells": [
  {
   "cell_type": "code",
   "execution_count": null,
   "metadata": {},
   "outputs": [],
   "source": [
    "import cv2\n",
    "import numpy as np\n",
    "from PIL import Image\n",
    "from keras import models\n",
    "\n",
    "#Load the saved model\n",
    "model = models.load_model('step2.h5')\n",
    "video = cv2.VideoCapture(0)\n",
    "\n",
    "while True:\n",
    "\t_, frame = video.read()\n",
    "\n",
    "\t#Convert the captured frame into RGB\n",
    "\tim = Image.fromarray(frame, 'RGB')\n",
    "\t\n",
    "\t#Resizing into 128x128 because we trained the model with this image size.\n",
    "\tim = im.resize((128,128))\n",
    "\timg_array = np.array(im)\n",
    "\n",
    "\t#Our keras model used a 4D tensor, (images x height x width x channel)\n",
    "\t#So changing dimension 128x128x3 into 1x128x128x3 \n",
    "\timg_array = np.expand_dims(img_array, axis=0)\n",
    "\t\n",
    "\t#Calling the predict method on model to predict 'me' on the image\n",
    "\tprediction = int(model.predict(img_array)[0][0])\n",
    "\t\n",
    "\t#if prediction is 0, which mean I am missing on the image, then show the frame in gray color.\n",
    "\tprint(prediction)\n",
    "\tif prediction==0:\n",
    "\t\tframe = cv2.cvtColor(frame, cv2.COLOR_BGR2GRAY)\n",
    "\t\n",
    "\tcv2.imshow(\"Capturing\", frame)\n",
    "\tkey=cv2.waitKey(1)\n",
    "\tif key == ord('q'):\n",
    "\t\tbreak\n",
    "video.release()\n",
    "cv2.destroyAllWindows()\n"
   ]
  },
  {
   "cell_type": "code",
   "execution_count": null,
   "metadata": {},
   "outputs": [],
   "source": []
  }
 ],
 "metadata": {
  "kernelspec": {
   "display_name": "Python 3",
   "language": "python",
   "name": "python3"
  },
  "language_info": {
   "codemirror_mode": {
    "name": "ipython",
    "version": 3
   },
   "file_extension": ".py",
   "mimetype": "text/x-python",
   "name": "python",
   "nbconvert_exporter": "python",
   "pygments_lexer": "ipython3",
   "version": "3.6.3"
  }
 },
 "nbformat": 4,
 "nbformat_minor": 2
}
